{
  "nbformat": 4,
  "nbformat_minor": 0,
  "metadata": {
    "colab": {
      "provenance": []
    },
    "kernelspec": {
      "name": "python3",
      "display_name": "Python 3"
    },
    "language_info": {
      "name": "python"
    }
  },
  "cells": [
    {
      "cell_type": "markdown",
      "source": [
        "## 1. What does RGBA stand for?\n",
        "\n",
        "Answer:- RGBA(Red-Green-Blue-Alpha) The format of the RGBA Value\n",
        "\n"
      ],
      "metadata": {
        "id": "lRwj6rephj3O"
      }
    },
    {
      "cell_type": "code",
      "source": [],
      "metadata": {
        "id": "UbWhr547hvkY"
      },
      "execution_count": null,
      "outputs": []
    },
    {
      "cell_type": "markdown",
      "source": [
        "## 2. From the Pillow module, how do you get the RGBA value of any images?\n",
        "\n",
        "Answer:- import the Image module from the Pillow library. from PIL import Image.\n",
        "# Open any image and get the RAGBAG values. img = Image.open('image.png') rgba = img.convert(“RGBA”) ...\n",
        "Change the color. Data will be an Imaging Core object containing thousands of tuples of RGBA values. ...\n",
        "Store the changed image."
      ],
      "metadata": {
        "id": "JmyaFpnfhwFl"
      }
    },
    {
      "cell_type": "code",
      "source": [],
      "metadata": {
        "id": "LDurdwP2h744"
      },
      "execution_count": null,
      "outputs": []
    },
    {
      "cell_type": "markdown",
      "source": [
        "## 3. What is a box tuple, and how does it work?\n",
        "\n",
        "Answer:- The box. tuple submodule provides read-only access for the tuple userdata type. It allows, for a single tuple: selective retrieval of the field contents, retrieval of information about size, iteration over all the fields, and conversion to a Lua table."
      ],
      "metadata": {
        "id": "Sp24HtlNiAFG"
      }
    },
    {
      "cell_type": "code",
      "source": [],
      "metadata": {
        "id": "ZYtOXZ9Zihth"
      },
      "execution_count": null,
      "outputs": []
    },
    {
      "cell_type": "markdown",
      "source": [
        "## 4. Use your image and load in notebook then, How can you find out the width and height of an\n",
        "Image object?\n",
        "\n",
        "Answer:- PIL.Image.open() is used to open the image and then .width and .height property of Image are used to get the height and width of the image. The same results can be obtained by using .size property."
      ],
      "metadata": {
        "id": "QXkfK6Ijiqyu"
      }
    },
    {
      "cell_type": "code",
      "source": [],
      "metadata": {
        "id": "wmSjPgYDjIVg"
      },
      "execution_count": null,
      "outputs": []
    },
    {
      "cell_type": "markdown",
      "source": [
        "## 5. What method would you call to get Image object for a 100×100 image, excluding the lower-left\n",
        "quarter of it?\n",
        "\n",
        "Answer:- "
      ],
      "metadata": {
        "id": "lpQJcz9-jJLX"
      }
    },
    {
      "cell_type": "code",
      "source": [],
      "metadata": {
        "id": "QAA99ujSkF05"
      },
      "execution_count": null,
      "outputs": []
    },
    {
      "cell_type": "markdown",
      "source": [
        "## 6. After making changes to an Image object, how could you save it as an image file?\n",
        "\n",
        "Answer;- Image.save(fp, format=None, **params)"
      ],
      "metadata": {
        "id": "FxSlb24zkGpP"
      }
    },
    {
      "cell_type": "code",
      "source": [],
      "metadata": {
        "id": "ACrkFPRgkX35"
      },
      "execution_count": null,
      "outputs": []
    },
    {
      "cell_type": "markdown",
      "source": [
        "## 7. What module contains Pillow’s shape-drawing code?\n",
        "\n",
        "Answer:- he 'ImageDraw' module provides simple 2D graphics support for Image Object. Generally, we use this module to create new images, annotate or retouch existing images and to generate graphics on the fly for web use. The graphics commands support the drawing of shapes and annotation of text."
      ],
      "metadata": {
        "id": "R6FXg8_fkYn_"
      }
    },
    {
      "cell_type": "code",
      "source": [],
      "metadata": {
        "id": "U3BY4Ga9kiVB"
      },
      "execution_count": null,
      "outputs": []
    },
    {
      "cell_type": "markdown",
      "source": [
        "## 8. Image objects do not have drawing methods. What kind of object does? How do you get this kind\n",
        "of object?\n",
        "\n",
        "Answer:- draw() Function. The draw() function in pyplot module of matplotlib library is used to redraw the current figure"
      ],
      "metadata": {
        "id": "G03f1ineki3_"
      }
    },
    {
      "cell_type": "code",
      "source": [],
      "metadata": {
        "id": "ABkDPqVUlY8x"
      },
      "execution_count": null,
      "outputs": []
    }
  ]
}